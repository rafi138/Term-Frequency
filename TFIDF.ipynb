{
 "cells": [
  {
   "cell_type": "code",
   "execution_count": 15,
   "metadata": {},
   "outputs": [],
   "source": [
    "from operator import itemgetter"
   ]
  },
  {
   "cell_type": "code",
   "execution_count": 16,
   "metadata": {},
   "outputs": [],
   "source": [
    "class TFIDF():\n",
    "    def __init__(self,doc):\n",
    "        self.doc = [x.split() for x in doc]\n",
    "        self.wordSet = self.getWordset(self.doc)\n",
    "        self.wordDict = self.getWorddict(self.doc)\n",
    "        self.idf = self.computeIDF(self.wordDict)\n",
    "        self.tfidf = []\n",
    "\n",
    "    def getWordset(self,doc):\n",
    "        wordSet = []\n",
    "        for x in doc:\n",
    "            wordSet = wordSet + x\n",
    "        return set(wordSet)\n",
    "\n",
    "    def getWorddict(self,doc):\n",
    "        wordDict = []\n",
    "        for i in range(0,len(doc)):\n",
    "            wordDict.append(dict.fromkeys(self.wordSet, 0))\n",
    "        for i in range(0,len(wordDict)):\n",
    "            for word in doc[i]:\n",
    "                wordDict[i][word]+=1\n",
    "        return wordDict\n",
    "\n",
    "    def computeIDF(self,docList):\n",
    "        import math\n",
    "        idfDict = {}\n",
    "        N = len(docList)\n",
    "\n",
    "        idfDict = dict.fromkeys(docList[0].keys(), 0)\n",
    "        for doc in docList:\n",
    "            for word, val in doc.items():\n",
    "                if val > 0:\n",
    "                    idfDict[word] += 1\n",
    "\n",
    "        for word, val in idfDict.items():\n",
    "            idfDict[word] = math.log10(N / float(val))\n",
    "\n",
    "        return idfDict    \n",
    "    \n",
    "    def computeTFIDF(self, i, idfs):\n",
    "        tfidf = {}\n",
    "        for word in self.doc[i]:\n",
    "            tfidf[word] = self.wordDict[i][word]*idfs[word]\n",
    "        return tfidf\n",
    "    \n",
    "    def getTFIDF(self):\n",
    "        idfs = self.idf\n",
    "        tfidf_out = []\n",
    "        for x in range(0,len(self.doc)):\n",
    "            tfidf_out.append(self.computeTFIDF(x, idfs))\n",
    "        self.tfidf = tfidf_out\n",
    "        return list(tfidf_out)\n",
    "\n",
    "    def getSCORE(self):\n",
    "        score = []\n",
    "        for u in range(0,len(self.tfidf)):\n",
    "            score.append(0)\n",
    "            for i in self.tfidf[u]:\n",
    "                score[u] += self.tfidf[u][i]\n",
    "        return score\n",
    "    \n",
    "    def getIDF(self):\n",
    "        return self.idf\n",
    "\n",
    "    def getWORDSET(self):\n",
    "        return self.wordSet\n",
    "    \n",
    "    def getWORDDICT(self):\n",
    "        return self.wordDict\n",
    "    \n",
    "    def search(self,query):\n",
    "        query_tfidf = []\n",
    "\n",
    "        num = 0\n",
    "        tfidf_out = self.getTFIDF()\n",
    "        for i in tfidf_out:\n",
    "            query_tfidf.append(0.0)\n",
    "            for u in i:\n",
    "                if u in query:\n",
    "                    query_tfidf[num] += i[u]\n",
    "            num = num + 1\n",
    "        \n",
    "        hasil = [a*b for a,b in zip(query_tfidf,self.getSCORE())]\n",
    "        for i in range(0,len(hasil)):\n",
    "            hasil[i] = [i, hasil[i]]\n",
    "        \n",
    "        hasil_akhir = reversed(sorted(hasil, key=itemgetter(1)))\n",
    "        hasil_akhir = [x for x in hasil_akhir]\n",
    "        \n",
    "        return hasil_akhir\n",
    "        \n",
    "dataset = [\"Herbal Formulation Against Dental Caries Causing Microorganisms Using Extracts of Stevia Rebaudiana Leaves (A Natural Sweetner)\",\"MicroRNAs and cancer resistance: A new molecular plot\"] \n",
    "tfidf = TFIDF(dataset)"
   ]
  },
  {
   "cell_type": "code",
   "execution_count": 23,
   "metadata": {},
   "outputs": [
    {
     "data": {
      "text/plain": [
       "[[1, 0.7249524663156524], [0, 0.0]]"
      ]
     },
     "execution_count": 23,
     "metadata": {},
     "output_type": "execute_result"
    }
   ],
   "source": [
    "query = \"molecular pathogenesis micrornas\"\n",
    "tfidf.search(query)"
   ]
  },
  {
   "cell_type": "code",
   "execution_count": 18,
   "metadata": {},
   "outputs": [
    {
     "data": {
      "text/plain": [
       "[{'Herbal': 0.3010299956639812,\n",
       "  'Formulation': 0.3010299956639812,\n",
       "  'Against': 0.3010299956639812,\n",
       "  'Dental': 0.3010299956639812,\n",
       "  'Caries': 0.3010299956639812,\n",
       "  'Causing': 0.3010299956639812,\n",
       "  'Microorganisms': 0.3010299956639812,\n",
       "  'Using': 0.3010299956639812,\n",
       "  'Extracts': 0.3010299956639812,\n",
       "  'of': 0.3010299956639812,\n",
       "  'Stevia': 0.3010299956639812,\n",
       "  'Rebaudiana': 0.3010299956639812,\n",
       "  'Leaves': 0.3010299956639812,\n",
       "  '(A': 0.3010299956639812,\n",
       "  'Natural': 0.3010299956639812,\n",
       "  'Sweetner)': 0.3010299956639812},\n",
       " {'MicroRNAs': 0.3010299956639812,\n",
       "  'and': 0.3010299956639812,\n",
       "  'cancer': 0.3010299956639812,\n",
       "  'resistance:': 0.3010299956639812,\n",
       "  'A': 0.3010299956639812,\n",
       "  'new': 0.3010299956639812,\n",
       "  'molecular': 0.3010299956639812,\n",
       "  'plot': 0.3010299956639812}]"
      ]
     },
     "execution_count": 18,
     "metadata": {},
     "output_type": "execute_result"
    }
   ],
   "source": [
    "tfidf.getTFIDF()"
   ]
  },
  {
   "cell_type": "code",
   "execution_count": 19,
   "metadata": {},
   "outputs": [
    {
     "data": {
      "text/plain": [
       "[4.816479930623699, 2.4082399653118496]"
      ]
     },
     "execution_count": 19,
     "metadata": {},
     "output_type": "execute_result"
    }
   ],
   "source": [
    "tfidf.getSCORE()"
   ]
  },
  {
   "cell_type": "code",
   "execution_count": 20,
   "metadata": {},
   "outputs": [
    {
     "data": {
      "text/plain": [
       "{'new': 0.3010299956639812,\n",
       " 'A': 0.3010299956639812,\n",
       " 'Using': 0.3010299956639812,\n",
       " 'and': 0.3010299956639812,\n",
       " 'cancer': 0.3010299956639812,\n",
       " 'Leaves': 0.3010299956639812,\n",
       " 'Herbal': 0.3010299956639812,\n",
       " 'Sweetner)': 0.3010299956639812,\n",
       " '(A': 0.3010299956639812,\n",
       " 'resistance:': 0.3010299956639812,\n",
       " 'Caries': 0.3010299956639812,\n",
       " 'Causing': 0.3010299956639812,\n",
       " 'molecular': 0.3010299956639812,\n",
       " 'Natural': 0.3010299956639812,\n",
       " 'Formulation': 0.3010299956639812,\n",
       " 'Extracts': 0.3010299956639812,\n",
       " 'Microorganisms': 0.3010299956639812,\n",
       " 'plot': 0.3010299956639812,\n",
       " 'Dental': 0.3010299956639812,\n",
       " 'of': 0.3010299956639812,\n",
       " 'Against': 0.3010299956639812,\n",
       " 'Stevia': 0.3010299956639812,\n",
       " 'MicroRNAs': 0.3010299956639812,\n",
       " 'Rebaudiana': 0.3010299956639812}"
      ]
     },
     "execution_count": 20,
     "metadata": {},
     "output_type": "execute_result"
    }
   ],
   "source": [
    "tfidf.getIDF()"
   ]
  },
  {
   "cell_type": "code",
   "execution_count": 21,
   "metadata": {},
   "outputs": [
    {
     "data": {
      "text/plain": [
       "{'(A',\n",
       " 'A',\n",
       " 'Against',\n",
       " 'Caries',\n",
       " 'Causing',\n",
       " 'Dental',\n",
       " 'Extracts',\n",
       " 'Formulation',\n",
       " 'Herbal',\n",
       " 'Leaves',\n",
       " 'MicroRNAs',\n",
       " 'Microorganisms',\n",
       " 'Natural',\n",
       " 'Rebaudiana',\n",
       " 'Stevia',\n",
       " 'Sweetner)',\n",
       " 'Using',\n",
       " 'and',\n",
       " 'cancer',\n",
       " 'molecular',\n",
       " 'new',\n",
       " 'of',\n",
       " 'plot',\n",
       " 'resistance:'}"
      ]
     },
     "execution_count": 21,
     "metadata": {},
     "output_type": "execute_result"
    }
   ],
   "source": [
    "tfidf.getWORDSET()"
   ]
  },
  {
   "cell_type": "code",
   "execution_count": 22,
   "metadata": {},
   "outputs": [
    {
     "data": {
      "text/plain": [
       "[{'new': 0,\n",
       "  'A': 0,\n",
       "  'Using': 1,\n",
       "  'and': 0,\n",
       "  'cancer': 0,\n",
       "  'Leaves': 1,\n",
       "  'Herbal': 1,\n",
       "  'Sweetner)': 1,\n",
       "  '(A': 1,\n",
       "  'resistance:': 0,\n",
       "  'Caries': 1,\n",
       "  'Causing': 1,\n",
       "  'molecular': 0,\n",
       "  'Natural': 1,\n",
       "  'Formulation': 1,\n",
       "  'Extracts': 1,\n",
       "  'Microorganisms': 1,\n",
       "  'plot': 0,\n",
       "  'Dental': 1,\n",
       "  'of': 1,\n",
       "  'Against': 1,\n",
       "  'Stevia': 1,\n",
       "  'MicroRNAs': 0,\n",
       "  'Rebaudiana': 1},\n",
       " {'new': 1,\n",
       "  'A': 1,\n",
       "  'Using': 0,\n",
       "  'and': 1,\n",
       "  'cancer': 1,\n",
       "  'Leaves': 0,\n",
       "  'Herbal': 0,\n",
       "  'Sweetner)': 0,\n",
       "  '(A': 0,\n",
       "  'resistance:': 1,\n",
       "  'Caries': 0,\n",
       "  'Causing': 0,\n",
       "  'molecular': 1,\n",
       "  'Natural': 0,\n",
       "  'Formulation': 0,\n",
       "  'Extracts': 0,\n",
       "  'Microorganisms': 0,\n",
       "  'plot': 1,\n",
       "  'Dental': 0,\n",
       "  'of': 0,\n",
       "  'Against': 0,\n",
       "  'Stevia': 0,\n",
       "  'MicroRNAs': 1,\n",
       "  'Rebaudiana': 0}]"
      ]
     },
     "execution_count": 22,
     "metadata": {},
     "output_type": "execute_result"
    }
   ],
   "source": [
    "tfidf.getWORDDICT()"
   ]
  }
 ],
 "metadata": {
  "kernelspec": {
   "display_name": "Python 3",
   "language": "python",
   "name": "python3"
  },
  "language_info": {
   "codemirror_mode": {
    "name": "ipython",
    "version": 3
   },
   "file_extension": ".py",
   "mimetype": "text/x-python",
   "name": "python",
   "nbconvert_exporter": "python",
   "pygments_lexer": "ipython3",
   "version": "3.6.8"
  }
 },
 "nbformat": 4,
 "nbformat_minor": 2
}
